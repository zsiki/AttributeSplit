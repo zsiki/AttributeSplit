{
  "nbformat": 4,
  "nbformat_minor": 0,
  "metadata": {
    "colab": {
      "provenance": [],
      "authorship_tag": "ABX9TyNJjrfJDiiL2SjntRF6NN2W",
      "include_colab_link": true
    },
    "kernelspec": {
      "name": "python3",
      "display_name": "Python 3"
    },
    "language_info": {
      "name": "python"
    }
  },
  "cells": [
    {
      "cell_type": "markdown",
      "metadata": {
        "id": "view-in-github",
        "colab_type": "text"
      },
      "source": [
        "<a href=\"https://colab.research.google.com/github/zsiki/AttributeSplit/blob/master/english/data_processing/lessons/trigmag.ipynb\" target=\"_parent\"><img src=\"https://colab.research.google.com/assets/colab-badge.svg\" alt=\"Open In Colab\"/></a>"
      ]
    },
    {
      "cell_type": "markdown",
      "source": [
        "# Propagation of errors for polar observations\n",
        "\n",
        "Polar observations are used to calculate Cartesian coordinates in case of total stations.\n",
        "\n",
        "$E_p = E_{st} + SD * sin(z) * sin(WCB) $\n",
        "\n",
        "$N_p = N_{st} + SD * sin(z) * cos(WCB) $\n",
        "\n",
        "$H_p = H_{st} + SD * cos(z) + h_i - h_t$\n",
        "\n",
        "The mean error for the coordinates and elevation using the rule of propagation of error:\n",
        "\n",
        "$m_{E_p} = \\sqrt {(\\frac {\\partial E_p} {\\partial E_{st}})^2 * m_{E_{st}}^2 + (\\frac {\\partial {E_p}} {\\partial SD})^2 * m_{SD}^2 + (\\frac {\\partial {E_p}} {\\partial z})^2 * m_z^2 + (\\frac {\\partial {E_p}} {\\partial WCB})^2 * m_{WCB}^2}$\n",
        "\n",
        "$m_{N_p} = \\sqrt {(\\frac {\\partial N_p} {\\partial N_{st}})^2 * m_{N_{st}}^2 + (\\frac {\\partial {N_p}} {\\partial SD})^2 * m_{SD}^2 + (\\frac {\\partial {N_p}} {\\partial z})^2 * m_z^2 + (\\frac {\\partial {N_p}} {\\partial WCB})^2 * m_{WCB}^2}$\n",
        "\n",
        "$m_{H_p} = \\sqrt {(\\frac {\\partial H_p} {\\partial H_{st}})^2 * m_{H_{st}}^2 + (\\frac {\\partial {H_p}} {\\partial SD})^2 * m_{SD}^2 + (\\frac {\\partial {H_p}} {\\partial z})^2 * m_z^2 + (\\frac {\\partial {H_p}} {\\partial h_i})^2 * m_{h_i}^2 + (\\frac {\\partial {H_p}} {\\partial h_t})^2 * m_{h_t}^2}$\n",
        "\n",
        "where:\n",
        "\n",
        "$ \\frac {\\partial E_p} {\\partial E_{st}} = \\frac {\\partial N_p} {\\partial E_{st}} =  \\frac {\\partial H_p} {\\partial H_{st}} = 1$\n",
        "\n",
        "$ \\frac {\\partial {E_p}} {\\partial SD} = sin(z) * sin(WCB)$\n",
        "\n",
        "$ \\frac {\\partial {N_p}} {\\partial SD} = sin(z) * cos(WCB)$\n",
        "\n",
        "$ \\frac {\\partial {H_p}} {\\partial SD} = cos(z)$\n",
        "\n",
        "$ \\frac {\\partial {E_p}} {\\partial z} = SD * cos(z) * sin(WCB)$\n",
        "\n",
        "$ \\frac {\\partial {N_p}} {\\partial z} = SD * cos(z) * cos(WCB)$\n",
        "\n",
        "$ \\frac {\\partial {H_p}} {\\partial z} = -SD * sin(z)$\n",
        "\n",
        "$ \\frac {\\partial {E_p}} {\\partial WCB} = SD * sin(z) * cos(WCB)$\n",
        "\n",
        "$ \\frac {\\partial {N_p}} {\\partial WCB} = -SD * sin(z) * sin(WCB)$\n",
        "\n",
        "$ \\frac {\\partial {H_p}} {\\partial h_i} = 1$\n",
        "\n",
        "$ \\frac {\\partial {H_p}} {\\partial h_t} = -1$\n"
      ],
      "metadata": {
        "id": "aXJ-PD7QL9hf"
      }
    },
    {
      "cell_type": "code",
      "source": [
        "from math import sqrt, sin ,cos, pi\n",
        "from matplotlib import pyplot as plt\n",
        "rho = 180 / pi * 180 * 3600"
      ],
      "metadata": {
        "id": "P36DcWy4Qc5L"
      },
      "execution_count": 1,
      "outputs": []
    },
    {
      "cell_type": "code",
      "source": [
        "def mean_error(SlopeDistance, Bearing, Zenith, mSD1=1, mSD2=1.5, mB=1, mZ=1, mI = 0, mT = 0, mE0=0, mN0=0, mH0=0):\n",
        "    \"\"\" Calculate mena error of polar coordinates\n",
        "        SlopeDistance in metres\n",
        "        Bearing in dergrees\n",
        "        Zenith in degrees\n",
        "        mSD1, mSD2 - mean error for slope distance in mm SD1 + Distance / 1000 * mSD2\n",
        "        mB - mean error for bearing in seconds\n",
        "        mZ - mean error for zenith angel in seconds\n",
        "        mI - mean error for instrument height\n",
        "        mT - mean error for target height\n",
        "        mE0, mN0, mH0 - mean error for the station coordinates\n",
        "\n",
        "        Returns mean error of the coordinates (in mm) of the polar point (tuple)\n",
        "    \"\"\"\n",
        "    zRad = Zenith / 180 * pi\n",
        "    bRad = Bearing / 180 * pi\n",
        "    mSD = mSD1 + mSD2 * SlopeDistance / 1000\n",
        "    mE = sqrt(mE0**2 + \n",
        "              (sin(zRad) * sin(bRad))**2 * (mSD / 1000)**2 + \n",
        "              (SlopeDistance * cos(zRad) * sin(bRad))**2 * (mZ / rho)**2 +\n",
        "              (SlopeDistance * sin(zRad) * cos(bRad))**2 * (mB / rho)**2)\n",
        "    mN = sqrt(mN0**2 + \n",
        "              (sin(zRad) * cos(bRad))**2 * (mSD / 1000)**2 + \n",
        "              (SlopeDistance * cos(zRad) * cos(bRad))**2 * (mZ / rho)**2 +\n",
        "              (SlopeDistance * sin(zRad) * sin(bRad))**2 * (mB / rho)**2)\n",
        "    mH = sqrt(mH0**2 +\n",
        "              cos(zRad)**2 * (mSD/1000)**2 +\n",
        "              (SlopeDistance * sin(zRad))**2 * (mZ / rho)**2 +\n",
        "              (mI / 1000)**2 +\n",
        "              (mT / 1000)**2)\n",
        "    return mE * 1000, mN * 1000, mH * 1000"
      ],
      "metadata": {
        "id": "FgbgI_3b6zEP"
      },
      "execution_count": 14,
      "outputs": []
    },
    {
      "cell_type": "code",
      "source": [
        "mean_error(200, 90, 45)"
      ],
      "metadata": {
        "colab": {
          "base_uri": "https://localhost:8080/"
        },
        "id": "sqShYW6gPctd",
        "outputId": "b4427279-fcd0-481b-c484-37e69066bd4c"
      },
      "execution_count": 19,
      "outputs": [
        {
          "output_type": "execute_result",
          "data": {
            "text/plain": [
              "(0.9192467073140594, 0.003809056016939614, 0.9192467073140597)"
            ]
          },
          "metadata": {},
          "execution_count": 19
        }
      ]
    },
    {
      "cell_type": "code",
      "source": [
        "dd = range (20, 401, 20)\n",
        "zz = range (40, 91, 10)\n",
        "for z in zz:\n",
        "    ll = [mean_error(d, 0, z) for d in dd]\n",
        "    plt.plot(dd, [l[2] for l in ll], label=f\"{z} degree\")\n",
        "    #for d in dd:\n",
        "        #l = mean_error(d, 0, z)\n",
        "        #print(f\"{d}, {z}, {l[0]:.1f}, {l[1]:.1f}, {l[2]:.1f}\")\n",
        "plt.title('elevation')\n",
        "plt.legend()"
      ],
      "metadata": {
        "colab": {
          "base_uri": "https://localhost:8080/",
          "height": 298
        },
        "id": "uyYVz9i2Gzvr",
        "outputId": "93726b86-138f-4d72-8a26-913f9d3cd30b"
      },
      "execution_count": 26,
      "outputs": [
        {
          "output_type": "execute_result",
          "data": {
            "text/plain": [
              "<matplotlib.legend.Legend at 0x7fe99e21e5b0>"
            ]
          },
          "metadata": {},
          "execution_count": 26
        },
        {
          "output_type": "display_data",
          "data": {
            "text/plain": [
              "<Figure size 432x288 with 1 Axes>"
            ],
            "image/png": "[encoded data removed]"
          },
          "metadata": {
            "needs_background": "light"
          }
        }
      ]
    },
    {
      "cell_type": "markdown",
      "source": [
        "Propagation of error for trigonometric levelling\n",
        "\n",
        "$\\Delta h = SD_1 * cos(z_1) - SD_0 * cos(z_0)$\n",
        "\n",
        "$ \\frac {\\partial {\\Delta h}} {\\partial {SD_1}} = cos(z_1)$\n",
        "\n",
        "$ \\frac {\\partial {\\Delta h}} {\\partial {z_1}} = -SD_1 * sin(z_1)$\n",
        "\n",
        "$ \\frac {\\partial {\\Delta h}} {\\partial {SD_0}} = -cos(z_0)$\n",
        "\n",
        "$ \\frac {\\partial {\\Delta h}} {\\partial {z_0}} = SD_0 * sin(z_0)$\n",
        "\n",
        "\n",
        "$m_{\\Delta h} = \\sqrt{cos(z_1)^2 * m_{SD_1}^2 + SD_1^2 * sin(z_1)^2 * \\frac {m_z^2} {\\rho^2} + cos(z_0)^2 * m_{SD_0}^2 + SD_0^2 * sin(z_0)^2 * \\frac {m_z^2} {\\rho^2} } $"
      ],
      "metadata": {
        "id": "h-KGItI7Jyq3"
      }
    },
    {
      "cell_type": "code",
      "execution_count": null,
      "metadata": {
        "colab": {
          "base_uri": "https://localhost:8080/"
        },
        "id": "mWd4gPdZJtIT",
        "outputId": "ba83f04f-a971-46c1-f039-489fa8991158"
      },
      "outputs": [
        {
          "output_type": "stream",
          "name": "stdout",
          "text": [
            "0.7 mm\n"
          ]
        }
      ],
      "source": [
        "SD0 = SD1 = 100 # slope distance metres\n",
        "z0 = z1 = 80 / 180 * pi   # zenith angle degree\n",
        "mz = 1          # mean error for zenith angle seconds\n",
        "mDZ = 0.001     # mean error for slope distance metres\n",
        "rho = 180 * 60 * 60 / pi\n",
        "mdh = sqrt(cos(z1)**2 * mDZ**2 + SD1**2 * sin(z1)**2 * (mz / rho)**2 +\n",
        "           cos(z0)**2 * mDZ**2 + SD0**2 * sin(z0)**2 * (mz / rho)**2)\n",
        "print(f\"{mdh*1000:.1f} mm\")"
      ]
    },
    {
      "cell_type": "markdown",
      "source": [
        "Supposing SD1 = SD0 and z1 = z0\n"
      ],
      "metadata": {
        "id": "ibeHXj29TLeK"
      }
    },
    {
      "cell_type": "code",
      "source": [
        "dist = range(20, 201, 20)\n",
        "mdh = []\n",
        "z = 80 / 180 * pi\n",
        "for SD in dist:\n",
        "    mdh.append(sqrt(2 * cos(z)**2 * mDZ**2 + SD**2 * sin(z)**2 * (mz / rho)**2) * 1000)\n",
        "print([f\"{m:.1f} \" for m in mdh])"
      ],
      "metadata": {
        "colab": {
          "base_uri": "https://localhost:8080/"
        },
        "id": "qhd_3fJHSeo-",
        "outputId": "1abd9738-9ff2-4c4c-dd35-5497dfcd0ea7"
      },
      "execution_count": null,
      "outputs": [
        {
          "output_type": "stream",
          "name": "stdout",
          "text": [
            "['0.3 ', '0.3 ', '0.4 ', '0.5 ', '0.5 ', '0.6 ', '0.7 ', '0.8 ', '0.9 ', '1.0 ']\n"
          ]
        }
      ]
    },
    {
      "cell_type": "code",
      "source": [
        "plt.plot(dist, mdh)"
      ],
      "metadata": {
        "colab": {
          "base_uri": "https://localhost:8080/",
          "height": 282
        },
        "id": "d5h1KUSgVKqO",
        "outputId": "fe0f3707-991f-463f-dbbc-c622ba87ce69"
      },
      "execution_count": null,
      "outputs": [
        {
          "output_type": "execute_result",
          "data": {
            "text/plain": [
              "[<matplotlib.lines.Line2D at 0x7fbc7de65430>]"
            ]
          },
          "metadata": {},
          "execution_count": 14
        },
        {
          "output_type": "display_data",
          "data": {
            "text/plain": [
              "<Figure size 432x288 with 1 Axes>"
            ],
            "image/png": "[encoded data removed]"
          },
          "metadata": {
            "needs_background": "light"
          }
        }
      ]
    },
    {
      "cell_type": "code",
      "source": [],
      "metadata": {
        "id": "jIjjXuJtVtLJ"
      },
      "execution_count": null,
      "outputs": []
    }
  ]
}